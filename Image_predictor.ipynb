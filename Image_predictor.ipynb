{
  "nbformat": 4,
  "nbformat_minor": 0,
  "metadata": {
    "colab": {
      "provenance": [],
      "authorship_tag": "ABX9TyOnpRbdJnenwZr3Cpwb+Xbm",
      "include_colab_link": true
    },
    "kernelspec": {
      "name": "python3",
      "display_name": "Python 3"
    },
    "language_info": {
      "name": "python"
    }
  },
  "cells": [
    {
      "cell_type": "markdown",
      "metadata": {
        "id": "view-in-github",
        "colab_type": "text"
      },
      "source": [
        "<a href=\"https://colab.research.google.com/github/Tobifads/Image-recognition-Dog-or-Cat/blob/main/Image_predictor.ipynb\" target=\"_parent\"><img src=\"https://colab.research.google.com/assets/colab-badge.svg\" alt=\"Open In Colab\"/></a>"
      ]
    },
    {
      "cell_type": "code",
      "execution_count": null,
      "metadata": {
        "id": "TyagW8sWGJ-F"
      },
      "outputs": [],
      "source": []
    },
    {
      "cell_type": "code",
      "source": [
        "from google.colab import drive\n",
        "drive.mount('/content/drive')"
      ],
      "metadata": {
        "colab": {
          "base_uri": "https://localhost:8080/"
        },
        "id": "QCabQbZAGMIP",
        "outputId": "5c22e894-928e-4fe9-de31-f6ece699b486"
      },
      "execution_count": null,
      "outputs": [
        {
          "output_type": "stream",
          "name": "stdout",
          "text": [
            "Mounted at /content/drive\n"
          ]
        }
      ]
    },
    {
      "cell_type": "code",
      "source": [
        "import numpy as np\n",
        "import keras\n",
        "from keras.models import Sequential\n",
        "from keras.layers import Conv2D, Activation, MaxPooling2D, Dense, Flatten\n",
        "# from keras.preprocessing.image import ImageDataGenerator\n",
        "\n"
      ],
      "metadata": {
        "id": "qzqDroLiGaVC"
      },
      "execution_count": null,
      "outputs": []
    },
    {
      "cell_type": "code",
      "source": [
        "X_train = np.loadtxt('/content/drive/MyDrive/Data mining/input.csv', delimiter=',')\n",
        "Y_train = np.loadtxt('/content/drive/MyDrive/Data mining/labels.csv', delimiter=',')\n",
        "\n",
        "X_test = np.loadtxt('/content/drive/MyDrive/Data mining/input_test.csv',delimiter=',')\n",
        "Y_test = np.loadtxt('/content/drive/MyDrive/Data mining/labels_test.csv',delimiter=',')\n"
      ],
      "metadata": {
        "id": "KhYxn9PTHq6r"
      },
      "execution_count": null,
      "outputs": []
    },
    {
      "cell_type": "code",
      "source": [
        "print(\"Shape of X_train: \", X_train.shape)\n",
        "print(\"Shape of Y_train: \", Y_train.shape)\n",
        "print(\"Shape of X_test: \", X_test.shape)\n",
        "print(\"Shape of Y_test: \", Y_test.shape)\n"
      ],
      "metadata": {
        "colab": {
          "base_uri": "https://localhost:8080/"
        },
        "id": "8xt9YbdAIZRO",
        "outputId": "2a1a4c76-c9c8-4ed0-8dee-cd21c54e03d2"
      },
      "execution_count": null,
      "outputs": [
        {
          "output_type": "stream",
          "name": "stdout",
          "text": [
            "Shape of X_train:  (2000, 100, 100, 3)\n",
            "Shape of Y_train:  (2000, 1)\n",
            "Shape of X_test:  (400, 100, 100, 3)\n",
            "Shape of Y_test:  (400, 1)\n"
          ]
        }
      ]
    },
    {
      "cell_type": "code",
      "source": [
        "X_train = X_train.reshape(len(X_train),100,100,3)\n",
        "Y_train = Y_train.reshape(len(Y_train),1)\n",
        "\n",
        "X_test = X_test.reshape(len(X_test),100,100,3)\n",
        "Y_test = Y_test.reshape(len(Y_test),1)\n"
      ],
      "metadata": {
        "id": "NshXDzBpIh-L"
      },
      "execution_count": null,
      "outputs": []
    },
    {
      "cell_type": "code",
      "source": [
        "print(\"Shape of X_train: \", X_train.shape)\n",
        "print(\"Shape of Y_train: \", Y_train.shape)\n",
        "print(\"Shape of X_test: \", X_test.shape)\n",
        "print(\"Shape of Y_test: \", Y_test.shape)\n"
      ],
      "metadata": {
        "colab": {
          "base_uri": "https://localhost:8080/"
        },
        "id": "ZDeeZEX4I-UO",
        "outputId": "a9b31117-8ce2-47c5-dc95-ebd4c5014ad0"
      },
      "execution_count": null,
      "outputs": [
        {
          "output_type": "stream",
          "name": "stdout",
          "text": [
            "Shape of X_train:  (2000, 100, 100, 3)\n",
            "Shape of Y_train:  (2000, 1)\n",
            "Shape of X_test:  (400, 100, 100, 3)\n",
            "Shape of Y_test:  (400, 1)\n"
          ]
        }
      ]
    },
    {
      "cell_type": "code",
      "source": [
        "X_train[1,:]"
      ],
      "metadata": {
        "colab": {
          "base_uri": "https://localhost:8080/"
        },
        "id": "Xi6luXtBJi1V",
        "outputId": "5fe4f31f-1bdf-4880-c47a-da710989a67f"
      },
      "execution_count": null,
      "outputs": [
        {
          "output_type": "execute_result",
          "data": {
            "text/plain": [
              "array([[[131., 128., 135.],\n",
              "        [160., 157., 164.],\n",
              "        [198., 192., 204.],\n",
              "        ...,\n",
              "        [250., 249., 247.],\n",
              "        [255., 255., 253.],\n",
              "        [250., 249., 245.]],\n",
              "\n",
              "       [[140., 137., 144.],\n",
              "        [127., 124., 131.],\n",
              "        [120., 114., 124.],\n",
              "        ...,\n",
              "        [251., 253., 252.],\n",
              "        [254., 255., 253.],\n",
              "        [254., 255., 251.]],\n",
              "\n",
              "       [[204., 202., 207.],\n",
              "        [187., 185., 190.],\n",
              "        [147., 142., 148.],\n",
              "        ...,\n",
              "        [249., 255., 255.],\n",
              "        [238., 247., 242.],\n",
              "        [232., 241., 236.]],\n",
              "\n",
              "       ...,\n",
              "\n",
              "       [[174., 182., 195.],\n",
              "        [172., 180., 193.],\n",
              "        [178., 186., 197.],\n",
              "        ...,\n",
              "        [ 87., 114.,  97.],\n",
              "        [ 75.,  99.,  83.],\n",
              "        [ 80., 105.,  86.]],\n",
              "\n",
              "       [[166., 173., 189.],\n",
              "        [164., 172., 185.],\n",
              "        [172., 180., 193.],\n",
              "        ...,\n",
              "        [ 78., 106.,  84.],\n",
              "        [ 72.,  97.,  76.],\n",
              "        [ 77., 102.,  81.]],\n",
              "\n",
              "       [[173., 180., 196.],\n",
              "        [172., 179., 195.],\n",
              "        [174., 182., 195.],\n",
              "        ...,\n",
              "        [ 63.,  91.,  69.],\n",
              "        [ 62.,  87.,  65.],\n",
              "        [ 71.,  96.,  74.]]])"
            ]
          },
          "metadata": {},
          "execution_count": 12
        }
      ]
    },
    {
      "cell_type": "code",
      "source": [
        "X_train = X_train/255.0\n",
        "X_test = X_test/255.0\n"
      ],
      "metadata": {
        "id": "UhAwnRlEJ2ut"
      },
      "execution_count": null,
      "outputs": []
    },
    {
      "cell_type": "code",
      "source": [
        "X_train[1,:]"
      ],
      "metadata": {
        "colab": {
          "base_uri": "https://localhost:8080/"
        },
        "id": "33_jqh0NJ4ts",
        "outputId": "1a345dda-3fd3-4bec-d538-063a66ab3a31"
      },
      "execution_count": null,
      "outputs": [
        {
          "output_type": "execute_result",
          "data": {
            "text/plain": [
              "array([[[0.51372549, 0.50196078, 0.52941176],\n",
              "        [0.62745098, 0.61568627, 0.64313725],\n",
              "        [0.77647059, 0.75294118, 0.8       ],\n",
              "        ...,\n",
              "        [0.98039216, 0.97647059, 0.96862745],\n",
              "        [1.        , 1.        , 0.99215686],\n",
              "        [0.98039216, 0.97647059, 0.96078431]],\n",
              "\n",
              "       [[0.54901961, 0.5372549 , 0.56470588],\n",
              "        [0.49803922, 0.48627451, 0.51372549],\n",
              "        [0.47058824, 0.44705882, 0.48627451],\n",
              "        ...,\n",
              "        [0.98431373, 0.99215686, 0.98823529],\n",
              "        [0.99607843, 1.        , 0.99215686],\n",
              "        [0.99607843, 1.        , 0.98431373]],\n",
              "\n",
              "       [[0.8       , 0.79215686, 0.81176471],\n",
              "        [0.73333333, 0.7254902 , 0.74509804],\n",
              "        [0.57647059, 0.55686275, 0.58039216],\n",
              "        ...,\n",
              "        [0.97647059, 1.        , 1.        ],\n",
              "        [0.93333333, 0.96862745, 0.94901961],\n",
              "        [0.90980392, 0.94509804, 0.9254902 ]],\n",
              "\n",
              "       ...,\n",
              "\n",
              "       [[0.68235294, 0.71372549, 0.76470588],\n",
              "        [0.6745098 , 0.70588235, 0.75686275],\n",
              "        [0.69803922, 0.72941176, 0.77254902],\n",
              "        ...,\n",
              "        [0.34117647, 0.44705882, 0.38039216],\n",
              "        [0.29411765, 0.38823529, 0.3254902 ],\n",
              "        [0.31372549, 0.41176471, 0.3372549 ]],\n",
              "\n",
              "       [[0.65098039, 0.67843137, 0.74117647],\n",
              "        [0.64313725, 0.6745098 , 0.7254902 ],\n",
              "        [0.6745098 , 0.70588235, 0.75686275],\n",
              "        ...,\n",
              "        [0.30588235, 0.41568627, 0.32941176],\n",
              "        [0.28235294, 0.38039216, 0.29803922],\n",
              "        [0.30196078, 0.4       , 0.31764706]],\n",
              "\n",
              "       [[0.67843137, 0.70588235, 0.76862745],\n",
              "        [0.6745098 , 0.70196078, 0.76470588],\n",
              "        [0.68235294, 0.71372549, 0.76470588],\n",
              "        ...,\n",
              "        [0.24705882, 0.35686275, 0.27058824],\n",
              "        [0.24313725, 0.34117647, 0.25490196],\n",
              "        [0.27843137, 0.37647059, 0.29019608]]])"
            ]
          },
          "metadata": {},
          "execution_count": 14
        }
      ]
    },
    {
      "cell_type": "code",
      "source": [
        "import matplotlib.pyplot as plt\n",
        "import random\n",
        "idx= random.randint(0,len(X_train))\n",
        "plt.imshow(X_train[idx,:])\n"
      ],
      "metadata": {
        "colab": {
          "base_uri": "https://localhost:8080/",
          "height": 450
        },
        "id": "02sl2ECMKAGF",
        "outputId": "5a6381f6-1c20-48c4-bac0-88723c528485"
      },
      "execution_count": null,
      "outputs": [
        {
          "output_type": "execute_result",
          "data": {
            "text/plain": [
              "<matplotlib.image.AxesImage at 0x7f560575ed40>"
            ]
          },
          "metadata": {},
          "execution_count": 19
        },
        {
          "output_type": "display_data",
          "data": {
            "text/plain": [
              "<Figure size 640x480 with 1 Axes>"
            ],
            "image/png": "[encoded data removed]"
          },
          "metadata": {}
        }
      ]
    },
    {
      "cell_type": "code",
      "source": [
        "model = Sequential([\n",
        "    Conv2D(32,(3,3),activation = 'relu',input_shape=(100,100,3)),\n",
        "    MaxPooling2D((2,2)),\n",
        "    Conv2D(32,(3,3),activation = 'relu'),\n",
        "    MaxPooling2D((2,2)),\n",
        "    Flatten(),\n",
        "Dense(64, activation='relu'),\n",
        "    Dense(1, activation='sigmoid')\n",
        "])\n"
      ],
      "metadata": {
        "id": "lgua0FNnK31G"
      },
      "execution_count": null,
      "outputs": []
    },
    {
      "cell_type": "markdown",
      "source": [],
      "metadata": {
        "id": "IwxKZrj5LlYG"
      }
    },
    {
      "cell_type": "code",
      "source": [
        "model.compile(loss = 'binary_crossentropy' , optimizer ='adam', metrics=['accuracy'])\n"
      ],
      "metadata": {
        "id": "KyHgbScOLi63"
      },
      "execution_count": null,
      "outputs": []
    },
    {
      "cell_type": "code",
      "source": [
        "model.fit(X_train, Y_train, epochs = 5, batch_size = 64)"
      ],
      "metadata": {
        "colab": {
          "base_uri": "https://localhost:8080/"
        },
        "id": "VQEQoTs-OGF6",
        "outputId": "fa0106ba-2547-4e98-b382-26edffbd3b43"
      },
      "execution_count": null,
      "outputs": [
        {
          "output_type": "stream",
          "name": "stdout",
          "text": [
            "Epoch 1/5\n",
            "\u001b[1m32/32\u001b[0m \u001b[32m━━━━━━━━━━━━━━━━━━━━\u001b[0m\u001b[37m\u001b[0m \u001b[1m26s\u001b[0m 798ms/step - accuracy: 0.7544 - loss: 0.5088\n",
            "Epoch 2/5\n",
            "\u001b[1m32/32\u001b[0m \u001b[32m━━━━━━━━━━━━━━━━━━━━\u001b[0m\u001b[37m\u001b[0m \u001b[1m39s\u001b[0m 747ms/step - accuracy: 0.7976 - loss: 0.4295\n",
            "Epoch 3/5\n",
            "\u001b[1m32/32\u001b[0m \u001b[32m━━━━━━━━━━━━━━━━━━━━\u001b[0m\u001b[37m\u001b[0m \u001b[1m41s\u001b[0m 752ms/step - accuracy: 0.8511 - loss: 0.3683\n",
            "Epoch 4/5\n",
            "\u001b[1m32/32\u001b[0m \u001b[32m━━━━━━━━━━━━━━━━━━━━\u001b[0m\u001b[37m\u001b[0m \u001b[1m26s\u001b[0m 803ms/step - accuracy: 0.8681 - loss: 0.3143\n",
            "Epoch 5/5\n",
            "\u001b[1m32/32\u001b[0m \u001b[32m━━━━━━━━━━━━━━━━━━━━\u001b[0m\u001b[37m\u001b[0m \u001b[1m41s\u001b[0m 829ms/step - accuracy: 0.9044 - loss: 0.2442\n"
          ]
        },
        {
          "output_type": "execute_result",
          "data": {
            "text/plain": [
              "<keras.src.callbacks.history.History at 0x7f55f85d5e40>"
            ]
          },
          "metadata": {},
          "execution_count": 24
        }
      ]
    },
    {
      "cell_type": "code",
      "source": [
        "model.evaluate( X_test, Y_test)"
      ],
      "metadata": {
        "colab": {
          "base_uri": "https://localhost:8080/"
        },
        "id": "Qr-C8KIwQBkT",
        "outputId": "d71d9b26-2933-49ba-eb12-6265b55ed797"
      },
      "execution_count": null,
      "outputs": [
        {
          "output_type": "stream",
          "name": "stdout",
          "text": [
            "\u001b[1m13/13\u001b[0m \u001b[32m━━━━━━━━━━━━━━━━━━━━\u001b[0m\u001b[37m\u001b[0m \u001b[1m2s\u001b[0m 105ms/step - accuracy: 0.6770 - loss: 0.6597\n"
          ]
        },
        {
          "output_type": "execute_result",
          "data": {
            "text/plain": [
              "[0.6969240307807922, 0.6775000095367432]"
            ]
          },
          "metadata": {},
          "execution_count": 25
        }
      ]
    },
    {
      "cell_type": "code",
      "source": [
        "idx2 = random.randint (0,len(Y_test))\n",
        "plt.imshow(X_test[idx2,:])\n",
        "plt.show()\n"
      ],
      "metadata": {
        "colab": {
          "base_uri": "https://localhost:8080/",
          "height": 433
        },
        "id": "qFze1BB3QFT1",
        "outputId": "af1929c9-e244-4863-af2f-286b623190a0"
      },
      "execution_count": null,
      "outputs": [
        {
          "output_type": "display_data",
          "data": {
            "text/plain": [
              "<Figure size 640x480 with 1 Axes>"
            ],
            "image/png": "[encoded data removed]"
          },
          "metadata": {}
        }
      ]
    },
    {
      "cell_type": "code",
      "source": [
        "y_pred = model.predict(X_test[idx2,:].reshape(1,100,100,3))\n",
        "print(y_pred)\n"
      ],
      "metadata": {
        "colab": {
          "base_uri": "https://localhost:8080/"
        },
        "id": "6BZMmFRsQMp0",
        "outputId": "c9ac9e48-4bd7-4ed5-85ff-23c6a0095828"
      },
      "execution_count": null,
      "outputs": [
        {
          "output_type": "stream",
          "name": "stdout",
          "text": [
            "\u001b[1m1/1\u001b[0m \u001b[32m━━━━━━━━━━━━━━━━━━━━\u001b[0m\u001b[37m\u001b[0m \u001b[1m0s\u001b[0m 35ms/step\n",
            "[[0.7383849]]\n"
          ]
        }
      ]
    },
    {
      "cell_type": "code",
      "source": [
        "\n",
        "idx2 = random.randint (0,len(Y_test))\n",
        "plt.imshow(X_test[idx2,:])\n",
        "plt.show()\n",
        "y_pred = model.predict(X_test[idx2,:].reshape(1,100,100,3))\n",
        "if (y_pred > 0.5):\n",
        "  pred = 'Cat'\n",
        "else:\n",
        "  pred = 'Dog'\n",
        "print(\"The model prediction is a \", pred)\n",
        "print(y_pred)\n"
      ],
      "metadata": {
        "colab": {
          "base_uri": "https://localhost:8080/",
          "height": 485
        },
        "id": "5xkagTitQQid",
        "outputId": "021cbbb6-bb6e-4ddd-eeb6-60621f87ab84"
      },
      "execution_count": null,
      "outputs": [
        {
          "output_type": "display_data",
          "data": {
            "text/plain": [
              "<Figure size 640x480 with 1 Axes>"
            ],
            "image/png": "[encoded data removed]"
          },
          "metadata": {}
        },
        {
          "output_type": "stream",
          "name": "stdout",
          "text": [
            "\u001b[1m1/1\u001b[0m \u001b[32m━━━━━━━━━━━━━━━━━━━━\u001b[0m\u001b[37m\u001b[0m \u001b[1m0s\u001b[0m 31ms/step\n",
            "The model prediction is a  Cat\n",
            "[[0.87970227]]\n"
          ]
        }
      ]
    },
    {
      "cell_type": "code",
      "source": [
        "import pandas as pd\n",
        "import matplotlib.pyplot as plt\n",
        "dataset = pd.read_csv('/content/drive/MyDrive/Data mining/AirPassengers.csv', usecols=[1], engine='python')\n",
        "plt.plot(dataset)\n",
        "plt.show()\n"
      ],
      "metadata": {
        "colab": {
          "base_uri": "https://localhost:8080/",
          "height": 430
        },
        "id": "xh-InSR8RV8r",
        "outputId": "54fe83a3-5cbe-4601-f44d-ce451a1822b8"
      },
      "execution_count": null,
      "outputs": [
        {
          "output_type": "display_data",
          "data": {
            "text/plain": [
              "<Figure size 640x480 with 1 Axes>"
            ],
            "image/png": "[encoded data removed]"
          },
          "metadata": {}
        }
      ]
    },
    {
      "cell_type": "code",
      "source": [
        "dataset\n"
      ],
      "metadata": {
        "colab": {
          "base_uri": "https://localhost:8080/",
          "height": 424
        },
        "id": "etjvXrxJRw-u",
        "outputId": "9002be0b-f5df-45c1-8add-fa3748521fc3"
      },
      "execution_count": null,
      "outputs": [
        {
          "output_type": "execute_result",
          "data": {
            "text/plain": [
              "     #Passengers\n",
              "0            112\n",
              "1            118\n",
              "2            132\n",
              "3            129\n",
              "4            121\n",
              "..           ...\n",
              "139          606\n",
              "140          508\n",
              "141          461\n",
              "142          390\n",
              "143          432\n",
              "\n",
              "[144 rows x 1 columns]"
            ],
            "text/html": [
              "\n",
              "  <div id=\"df-6e02f350-5867-421c-abe1-4dc7ca3fc7fa\" class=\"colab-df-container\">\n",
              "    <div>\n",
              "<style scoped>\n",
              "    .dataframe tbody tr th:only-of-type {\n",
              "        vertical-align: middle;\n",
              "    }\n",
              "\n",
              "    .dataframe tbody tr th {\n",
              "        vertical-align: top;\n",
              "    }\n",
              "\n",
              "    .dataframe thead th {\n",
              "        text-align: right;\n",
              "    }\n",
              "</style>\n",
              "<table border=\"1\" class=\"dataframe\">\n",
              "  <thead>\n",
              "    <tr style=\"text-align: right;\">\n",
              "      <th></th>\n",
              "      <th>#Passengers</th>\n",
              "    </tr>\n",
              "  </thead>\n",
              "  <tbody>\n",
              "    <tr>\n",
              "      <th>0</th>\n",
              "      <td>112</td>\n",
              "    </tr>\n",
              "    <tr>\n",
              "      <th>1</th>\n",
              "      <td>118</td>\n",
              "    </tr>\n",
              "    <tr>\n",
              "      <th>2</th>\n",
              "      <td>132</td>\n",
              "    </tr>\n",
              "    <tr>\n",
              "      <th>3</th>\n",
              "      <td>129</td>\n",
              "    </tr>\n",
              "    <tr>\n",
              "      <th>4</th>\n",
              "      <td>121</td>\n",
              "    </tr>\n",
              "    <tr>\n",
              "      <th>...</th>\n",
              "      <td>...</td>\n",
              "    </tr>\n",
              "    <tr>\n",
              "      <th>139</th>\n",
              "      <td>606</td>\n",
              "    </tr>\n",
              "    <tr>\n",
              "      <th>140</th>\n",
              "      <td>508</td>\n",
              "    </tr>\n",
              "    <tr>\n",
              "      <th>141</th>\n",
              "      <td>461</td>\n",
              "    </tr>\n",
              "    <tr>\n",
              "      <th>142</th>\n",
              "      <td>390</td>\n",
              "    </tr>\n",
              "    <tr>\n",
              "      <th>143</th>\n",
              "      <td>432</td>\n",
              "    </tr>\n",
              "  </tbody>\n",
              "</table>\n",
              "<p>144 rows × 1 columns</p>\n",
              "</div>\n",
              "    <div class=\"colab-df-buttons\">\n",
              "\n",
              "  <div class=\"colab-df-container\">\n",
              "    <button class=\"colab-df-convert\" onclick=\"convertToInteractive('df-6e02f350-5867-421c-abe1-4dc7ca3fc7fa')\"\n",
              "            title=\"Convert this dataframe to an interactive table.\"\n",
              "            style=\"display:none;\">\n",
              "\n",
              "  <svg xmlns=\"http://www.w3.org/2000/svg\" height=\"24px\" viewBox=\"0 -960 960 960\">\n",
              "    <path d=\"M120-120v-720h720v720H120Zm60-500h600v-160H180v160Zm220 220h160v-160H400v160Zm0 220h160v-160H400v160ZM180-400h160v-160H180v160Zm440 0h160v-160H620v160ZM180-180h160v-160H180v160Zm440 0h160v-160H620v160Z\"/>\n",
              "  </svg>\n",
              "    </button>\n",
              "\n",
              "  <style>\n",
              "    .colab-df-container {\n",
              "      display:flex;\n",
              "      gap: 12px;\n",
              "    }\n",
              "\n",
              "    .colab-df-convert {\n",
              "      background-color: #E8F0FE;\n",
              "      border: none;\n",
              "      border-radius: 50%;\n",
              "      cursor: pointer;\n",
              "      display: none;\n",
              "      fill: #1967D2;\n",
              "      height: 32px;\n",
              "      padding: 0 0 0 0;\n",
              "      width: 32px;\n",
              "    }\n",
              "\n",
              "    .colab-df-convert:hover {\n",
              "      background-color: #E2EBFA;\n",
              "      box-shadow: 0px 1px 2px rgba(60, 64, 67, 0.3), 0px 1px 3px 1px rgba(60, 64, 67, 0.15);\n",
              "      fill: #174EA6;\n",
              "    }\n",
              "\n",
              "    .colab-df-buttons div {\n",
              "      margin-bottom: 4px;\n",
              "    }\n",
              "\n",
              "    [theme=dark] .colab-df-convert {\n",
              "      background-color: #3B4455;\n",
              "      fill: #D2E3FC;\n",
              "    }\n",
              "\n",
              "    [theme=dark] .colab-df-convert:hover {\n",
              "      background-color: #434B5C;\n",
              "      box-shadow: 0px 1px 3px 1px rgba(0, 0, 0, 0.15);\n",
              "      filter: drop-shadow(0px 1px 2px rgba(0, 0, 0, 0.3));\n",
              "      fill: #FFFFFF;\n",
              "    }\n",
              "  </style>\n",
              "\n",
              "    <script>\n",
              "      const buttonEl =\n",
              "        document.querySelector('#df-6e02f350-5867-421c-abe1-4dc7ca3fc7fa button.colab-df-convert');\n",
              "      buttonEl.style.display =\n",
              "        google.colab.kernel.accessAllowed ? 'block' : 'none';\n",
              "\n",
              "      async function convertToInteractive(key) {\n",
              "        const element = document.querySelector('#df-6e02f350-5867-421c-abe1-4dc7ca3fc7fa');\n",
              "        const dataTable =\n",
              "          await google.colab.kernel.invokeFunction('convertToInteractive',\n",
              "                                                    [key], {});\n",
              "        if (!dataTable) return;\n",
              "\n",
              "        const docLinkHtml = 'Like what you see? Visit the ' +\n",
              "          '<a target=\"_blank\" href=https://colab.research.google.com/notebooks/data_table.ipynb>data table notebook</a>'\n",
              "          + ' to learn more about interactive tables.';\n",
              "        element.innerHTML = '';\n",
              "        dataTable['output_type'] = 'display_data';\n",
              "        await google.colab.output.renderOutput(dataTable, element);\n",
              "        const docLink = document.createElement('div');\n",
              "        docLink.innerHTML = docLinkHtml;\n",
              "        element.appendChild(docLink);\n",
              "      }\n",
              "    </script>\n",
              "  </div>\n",
              "\n",
              "\n",
              "<div id=\"df-96658451-a39c-4941-9f19-5958bada8606\">\n",
              "  <button class=\"colab-df-quickchart\" onclick=\"quickchart('df-96658451-a39c-4941-9f19-5958bada8606')\"\n",
              "            title=\"Suggest charts\"\n",
              "            style=\"display:none;\">\n",
              "\n",
              "<svg xmlns=\"http://www.w3.org/2000/svg\" height=\"24px\"viewBox=\"0 0 24 24\"\n",
              "     width=\"24px\">\n",
              "    <g>\n",
              "        <path d=\"M19 3H5c-1.1 0-2 .9-2 2v14c0 1.1.9 2 2 2h14c1.1 0 2-.9 2-2V5c0-1.1-.9-2-2-2zM9 17H7v-7h2v7zm4 0h-2V7h2v10zm4 0h-2v-4h2v4z\"/>\n",
              "    </g>\n",
              "</svg>\n",
              "  </button>\n",
              "\n",
              "<style>\n",
              "  .colab-df-quickchart {\n",
              "      --bg-color: #E8F0FE;\n",
              "      --fill-color: #1967D2;\n",
              "      --hover-bg-color: #E2EBFA;\n",
              "      --hover-fill-color: #174EA6;\n",
              "      --disabled-fill-color: #AAA;\n",
              "      --disabled-bg-color: #DDD;\n",
              "  }\n",
              "\n",
              "  [theme=dark] .colab-df-quickchart {\n",
              "      --bg-color: #3B4455;\n",
              "      --fill-color: #D2E3FC;\n",
              "      --hover-bg-color: #434B5C;\n",
              "      --hover-fill-color: #FFFFFF;\n",
              "      --disabled-bg-color: #3B4455;\n",
              "      --disabled-fill-color: #666;\n",
              "  }\n",
              "\n",
              "  .colab-df-quickchart {\n",
              "    background-color: var(--bg-color);\n",
              "    border: none;\n",
              "    border-radius: 50%;\n",
              "    cursor: pointer;\n",
              "    display: none;\n",
              "    fill: var(--fill-color);\n",
              "    height: 32px;\n",
              "    padding: 0;\n",
              "    width: 32px;\n",
              "  }\n",
              "\n",
              "  .colab-df-quickchart:hover {\n",
              "    background-color: var(--hover-bg-color);\n",
              "    box-shadow: 0 1px 2px rgba(60, 64, 67, 0.3), 0 1px 3px 1px rgba(60, 64, 67, 0.15);\n",
              "    fill: var(--button-hover-fill-color);\n",
              "  }\n",
              "\n",
              "  .colab-df-quickchart-complete:disabled,\n",
              "  .colab-df-quickchart-complete:disabled:hover {\n",
              "    background-color: var(--disabled-bg-color);\n",
              "    fill: var(--disabled-fill-color);\n",
              "    box-shadow: none;\n",
              "  }\n",
              "\n",
              "  .colab-df-spinner {\n",
              "    border: 2px solid var(--fill-color);\n",
              "    border-color: transparent;\n",
              "    border-bottom-color: var(--fill-color);\n",
              "    animation:\n",
              "      spin 1s steps(1) infinite;\n",
              "  }\n",
              "\n",
              "  @keyframes spin {\n",
              "    0% {\n",
              "      border-color: transparent;\n",
              "      border-bottom-color: var(--fill-color);\n",
              "      border-left-color: var(--fill-color);\n",
              "    }\n",
              "    20% {\n",
              "      border-color: transparent;\n",
              "      border-left-color: var(--fill-color);\n",
              "      border-top-color: var(--fill-color);\n",
              "    }\n",
              "    30% {\n",
              "      border-color: transparent;\n",
              "      border-left-color: var(--fill-color);\n",
              "      border-top-color: var(--fill-color);\n",
              "      border-right-color: var(--fill-color);\n",
              "    }\n",
              "    40% {\n",
              "      border-color: transparent;\n",
              "      border-right-color: var(--fill-color);\n",
              "      border-top-color: var(--fill-color);\n",
              "    }\n",
              "    60% {\n",
              "      border-color: transparent;\n",
              "      border-right-color: var(--fill-color);\n",
              "    }\n",
              "    80% {\n",
              "      border-color: transparent;\n",
              "      border-right-color: var(--fill-color);\n",
              "      border-bottom-color: var(--fill-color);\n",
              "    }\n",
              "    90% {\n",
              "      border-color: transparent;\n",
              "      border-bottom-color: var(--fill-color);\n",
              "    }\n",
              "  }\n",
              "</style>\n",
              "\n",
              "  <script>\n",
              "    async function quickchart(key) {\n",
              "      const quickchartButtonEl =\n",
              "        document.querySelector('#' + key + ' button');\n",
              "      quickchartButtonEl.disabled = true;  // To prevent multiple clicks.\n",
              "      quickchartButtonEl.classList.add('colab-df-spinner');\n",
              "      try {\n",
              "        const charts = await google.colab.kernel.invokeFunction(\n",
              "            'suggestCharts', [key], {});\n",
              "      } catch (error) {\n",
              "        console.error('Error during call to suggestCharts:', error);\n",
              "      }\n",
              "      quickchartButtonEl.classList.remove('colab-df-spinner');\n",
              "      quickchartButtonEl.classList.add('colab-df-quickchart-complete');\n",
              "    }\n",
              "    (() => {\n",
              "      let quickchartButtonEl =\n",
              "        document.querySelector('#df-96658451-a39c-4941-9f19-5958bada8606 button');\n",
              "      quickchartButtonEl.style.display =\n",
              "        google.colab.kernel.accessAllowed ? 'block' : 'none';\n",
              "    })();\n",
              "  </script>\n",
              "</div>\n",
              "\n",
              "  <div id=\"id_cf9071df-7b1b-4172-bda6-ac56bdbb6842\">\n",
              "    <style>\n",
              "      .colab-df-generate {\n",
              "        background-color: #E8F0FE;\n",
              "        border: none;\n",
              "        border-radius: 50%;\n",
              "        cursor: pointer;\n",
              "        display: none;\n",
              "        fill: #1967D2;\n",
              "        height: 32px;\n",
              "        padding: 0 0 0 0;\n",
              "        width: 32px;\n",
              "      }\n",
              "\n",
              "      .colab-df-generate:hover {\n",
              "        background-color: #E2EBFA;\n",
              "        box-shadow: 0px 1px 2px rgba(60, 64, 67, 0.3), 0px 1px 3px 1px rgba(60, 64, 67, 0.15);\n",
              "        fill: #174EA6;\n",
              "      }\n",
              "\n",
              "      [theme=dark] .colab-df-generate {\n",
              "        background-color: #3B4455;\n",
              "        fill: #D2E3FC;\n",
              "      }\n",
              "\n",
              "      [theme=dark] .colab-df-generate:hover {\n",
              "        background-color: #434B5C;\n",
              "        box-shadow: 0px 1px 3px 1px rgba(0, 0, 0, 0.15);\n",
              "        filter: drop-shadow(0px 1px 2px rgba(0, 0, 0, 0.3));\n",
              "        fill: #FFFFFF;\n",
              "      }\n",
              "    </style>\n",
              "    <button class=\"colab-df-generate\" onclick=\"generateWithVariable('dataset')\"\n",
              "            title=\"Generate code using this dataframe.\"\n",
              "            style=\"display:none;\">\n",
              "\n",
              "  <svg xmlns=\"http://www.w3.org/2000/svg\" height=\"24px\"viewBox=\"0 0 24 24\"\n",
              "       width=\"24px\">\n",
              "    <path d=\"M7,19H8.4L18.45,9,17,7.55,7,17.6ZM5,21V16.75L18.45,3.32a2,2,0,0,1,2.83,0l1.4,1.43a1.91,1.91,0,0,1,.58,1.4,1.91,1.91,0,0,1-.58,1.4L9.25,21ZM18.45,9,17,7.55Zm-12,3A5.31,5.31,0,0,0,4.9,8.1,5.31,5.31,0,0,0,1,6.5,5.31,5.31,0,0,0,4.9,4.9,5.31,5.31,0,0,0,6.5,1,5.31,5.31,0,0,0,8.1,4.9,5.31,5.31,0,0,0,12,6.5,5.46,5.46,0,0,0,6.5,12Z\"/>\n",
              "  </svg>\n",
              "    </button>\n",
              "    <script>\n",
              "      (() => {\n",
              "      const buttonEl =\n",
              "        document.querySelector('#id_cf9071df-7b1b-4172-bda6-ac56bdbb6842 button.colab-df-generate');\n",
              "      buttonEl.style.display =\n",
              "        google.colab.kernel.accessAllowed ? 'block' : 'none';\n",
              "\n",
              "      buttonEl.onclick = () => {\n",
              "        google.colab.notebook.generateWithVariable('dataset');\n",
              "      }\n",
              "      })();\n",
              "    </script>\n",
              "  </div>\n",
              "\n",
              "    </div>\n",
              "  </div>\n"
            ],
            "application/vnd.google.colaboratory.intrinsic+json": {
              "type": "dataframe",
              "variable_name": "dataset",
              "summary": "{\n  \"name\": \"dataset\",\n  \"rows\": 144,\n  \"fields\": [\n    {\n      \"column\": \"#Passengers\",\n      \"properties\": {\n        \"dtype\": \"number\",\n        \"std\": 119,\n        \"min\": 104,\n        \"max\": 622,\n        \"num_unique_values\": 118,\n        \"samples\": [\n          293,\n          340,\n          121\n        ],\n        \"semantic_type\": \"\",\n        \"description\": \"\"\n      }\n    }\n  ]\n}"
            }
          },
          "metadata": {},
          "execution_count": 50
        }
      ]
    },
    {
      "cell_type": "code",
      "source": [
        "import numpy as np\n",
        "import matplotlib.pyplot as plt\n",
        "import math\n",
        "from keras.models import Sequential\n",
        "from keras.layers import Dense\n",
        "from keras.layers import LSTM\n",
        "from sklearn.preprocessing import MinMaxScaler\n",
        "from sklearn.metrics import mean_squared_error\n"
      ],
      "metadata": {
        "id": "TMZFrGFqSCG2"
      },
      "execution_count": null,
      "outputs": []
    },
    {
      "cell_type": "code",
      "source": [
        "# fix random seed for reproducibility\n",
        "np.random.seed(7)\n"
      ],
      "metadata": {
        "id": "GIOMeiqWSGOv"
      },
      "execution_count": null,
      "outputs": []
    },
    {
      "cell_type": "code",
      "source": [
        "dataset1 = dataset.values\n",
        "dataset1 = dataset.astype('float32')\n"
      ],
      "metadata": {
        "id": "ey1MxMbDSJ5h"
      },
      "execution_count": null,
      "outputs": []
    },
    {
      "cell_type": "code",
      "source": [
        "scaler = MinMaxScaler(feature_range=(0, 1))\n",
        "dataset1 = scaler.fit_transform(dataset1)\n"
      ],
      "metadata": {
        "id": "Fs_szk5iSNfh"
      },
      "execution_count": null,
      "outputs": []
    },
    {
      "cell_type": "code",
      "source": [
        "train_size = int(len(dataset1) * 0.67)\n",
        "test_size = len(dataset1) - train_size\n",
        "train, test = dataset1[0:train_size,:],dataset1[train_size:len(dataset),:]\n",
        "print(len(train), len(test))\n"
      ],
      "metadata": {
        "colab": {
          "base_uri": "https://localhost:8080/"
        },
        "id": "sMDFvcbdSsMi",
        "outputId": "ff01a38f-b1b2-41f9-9177-cfe4252dc4c4"
      },
      "execution_count": null,
      "outputs": [
        {
          "output_type": "stream",
          "name": "stdout",
          "text": [
            "96 48\n"
          ]
        }
      ]
    },
    {
      "cell_type": "code",
      "source": [
        "def create_dataset(dataset1, look_back=1):\n",
        "  dataX, dataY = [], []\n",
        "  for i in range(len(dataset1)-look_back-1):\n",
        "    a = dataset1[i:(i+look_back), 0]\n",
        "    dataX.append(a)\n",
        "    dataY.append(dataset1[i + look_back, 0])\n",
        "  return np.array(dataX), np.array(dataY)\n"
      ],
      "metadata": {
        "id": "RBrrfBv-S0kC"
      },
      "execution_count": null,
      "outputs": []
    },
    {
      "cell_type": "code",
      "source": [
        "look_back = 1\n",
        "trainX, trainY = create_dataset(train, look_back)\n",
        "testX, testY = create_dataset(test, look_back)\n"
      ],
      "metadata": {
        "id": "KKdMQWAbUcDr"
      },
      "execution_count": null,
      "outputs": []
    },
    {
      "cell_type": "code",
      "source": [
        "# reshape input to be [samples, time steps, features]\n",
        "trainX = np.reshape(trainX, (trainX.shape[0], 1, trainX.shape[1]))\n",
        "testX = np.reshape(testX, (testX.shape[0], 1, testX.shape[1]))\n"
      ],
      "metadata": {
        "id": "Fqovvck3Ukrt"
      },
      "execution_count": null,
      "outputs": []
    },
    {
      "cell_type": "code",
      "source": [
        "model = Sequential()\n",
        "model.add(LSTM(4, input_shape=(1, look_back)))\n",
        "model.add(Dense(1))\n",
        "model.compile(loss='mean_squared_error', optimizer='adam')\n",
        "model.fit(trainX, trainY, epochs=100, batch_size=1, verbose=2)\n"
      ],
      "metadata": {
        "colab": {
          "base_uri": "https://localhost:8080/"
        },
        "id": "4fZClIs3UnIX",
        "outputId": "16df8cea-53ab-4f0a-bbca-b507b3be43fd"
      },
      "execution_count": null,
      "outputs": [
        {
          "output_type": "stream",
          "name": "stdout",
          "text": [
            "Epoch 1/100\n"
          ]
        },
        {
          "output_type": "stream",
          "name": "stderr",
          "text": [
            "/usr/local/lib/python3.10/dist-packages/keras/src/layers/rnn/rnn.py:204: UserWarning: Do not pass an `input_shape`/`input_dim` argument to a layer. When using Sequential models, prefer using an `Input(shape)` object as the first layer in the model instead.\n",
            "  super().__init__(**kwargs)\n"
          ]
        },
        {
          "output_type": "stream",
          "name": "stdout",
          "text": [
            "94/94 - 2s - 17ms/step - loss: 0.0393\n",
            "Epoch 2/100\n",
            "94/94 - 0s - 3ms/step - loss: 0.0189\n",
            "Epoch 3/100\n",
            "94/94 - 0s - 3ms/step - loss: 0.0145\n",
            "Epoch 4/100\n",
            "94/94 - 0s - 3ms/step - loss: 0.0133\n",
            "Epoch 5/100\n",
            "94/94 - 0s - 3ms/step - loss: 0.0123\n",
            "Epoch 6/100\n",
            "94/94 - 0s - 3ms/step - loss: 0.0113\n",
            "Epoch 7/100\n",
            "94/94 - 0s - 3ms/step - loss: 0.0102\n",
            "Epoch 8/100\n",
            "94/94 - 0s - 3ms/step - loss: 0.0092\n",
            "Epoch 9/100\n",
            "94/94 - 0s - 3ms/step - loss: 0.0082\n",
            "Epoch 10/100\n",
            "94/94 - 0s - 2ms/step - loss: 0.0072\n",
            "Epoch 11/100\n",
            "94/94 - 0s - 2ms/step - loss: 0.0063\n",
            "Epoch 12/100\n",
            "94/94 - 0s - 2ms/step - loss: 0.0054\n",
            "Epoch 13/100\n",
            "94/94 - 0s - 3ms/step - loss: 0.0046\n",
            "Epoch 14/100\n",
            "94/94 - 0s - 2ms/step - loss: 0.0039\n",
            "Epoch 15/100\n",
            "94/94 - 0s - 3ms/step - loss: 0.0034\n",
            "Epoch 16/100\n",
            "94/94 - 0s - 2ms/step - loss: 0.0030\n",
            "Epoch 17/100\n",
            "94/94 - 0s - 3ms/step - loss: 0.0027\n",
            "Epoch 18/100\n",
            "94/94 - 0s - 2ms/step - loss: 0.0024\n",
            "Epoch 19/100\n",
            "94/94 - 0s - 2ms/step - loss: 0.0023\n",
            "Epoch 20/100\n",
            "94/94 - 0s - 3ms/step - loss: 0.0022\n",
            "Epoch 21/100\n",
            "94/94 - 0s - 2ms/step - loss: 0.0021\n",
            "Epoch 22/100\n",
            "94/94 - 0s - 3ms/step - loss: 0.0021\n",
            "Epoch 23/100\n",
            "94/94 - 0s - 3ms/step - loss: 0.0020\n",
            "Epoch 24/100\n",
            "94/94 - 0s - 4ms/step - loss: 0.0021\n",
            "Epoch 25/100\n",
            "94/94 - 0s - 3ms/step - loss: 0.0021\n",
            "Epoch 26/100\n",
            "94/94 - 0s - 3ms/step - loss: 0.0020\n",
            "Epoch 27/100\n",
            "94/94 - 0s - 3ms/step - loss: 0.0020\n",
            "Epoch 28/100\n",
            "94/94 - 0s - 3ms/step - loss: 0.0020\n",
            "Epoch 29/100\n",
            "94/94 - 0s - 3ms/step - loss: 0.0020\n",
            "Epoch 30/100\n",
            "94/94 - 0s - 3ms/step - loss: 0.0021\n",
            "Epoch 31/100\n",
            "94/94 - 0s - 3ms/step - loss: 0.0020\n",
            "Epoch 32/100\n",
            "94/94 - 0s - 4ms/step - loss: 0.0020\n",
            "Epoch 33/100\n",
            "94/94 - 0s - 3ms/step - loss: 0.0020\n",
            "Epoch 34/100\n",
            "94/94 - 0s - 3ms/step - loss: 0.0021\n",
            "Epoch 35/100\n",
            "94/94 - 0s - 3ms/step - loss: 0.0020\n",
            "Epoch 36/100\n",
            "94/94 - 0s - 3ms/step - loss: 0.0021\n",
            "Epoch 37/100\n",
            "94/94 - 0s - 5ms/step - loss: 0.0020\n",
            "Epoch 38/100\n",
            "94/94 - 0s - 2ms/step - loss: 0.0020\n",
            "Epoch 39/100\n",
            "94/94 - 0s - 3ms/step - loss: 0.0020\n",
            "Epoch 40/100\n",
            "94/94 - 0s - 3ms/step - loss: 0.0020\n",
            "Epoch 41/100\n",
            "94/94 - 0s - 3ms/step - loss: 0.0020\n",
            "Epoch 42/100\n",
            "94/94 - 0s - 4ms/step - loss: 0.0020\n",
            "Epoch 43/100\n",
            "94/94 - 0s - 2ms/step - loss: 0.0020\n",
            "Epoch 44/100\n",
            "94/94 - 0s - 3ms/step - loss: 0.0021\n",
            "Epoch 45/100\n",
            "94/94 - 0s - 3ms/step - loss: 0.0020\n",
            "Epoch 46/100\n",
            "94/94 - 0s - 3ms/step - loss: 0.0020\n",
            "Epoch 47/100\n",
            "94/94 - 0s - 3ms/step - loss: 0.0020\n",
            "Epoch 48/100\n",
            "94/94 - 0s - 2ms/step - loss: 0.0021\n",
            "Epoch 49/100\n",
            "94/94 - 0s - 3ms/step - loss: 0.0021\n",
            "Epoch 50/100\n",
            "94/94 - 0s - 3ms/step - loss: 0.0021\n",
            "Epoch 51/100\n",
            "94/94 - 0s - 2ms/step - loss: 0.0021\n",
            "Epoch 52/100\n",
            "94/94 - 0s - 3ms/step - loss: 0.0020\n",
            "Epoch 53/100\n",
            "94/94 - 0s - 3ms/step - loss: 0.0021\n",
            "Epoch 54/100\n",
            "94/94 - 0s - 2ms/step - loss: 0.0020\n",
            "Epoch 55/100\n",
            "94/94 - 0s - 3ms/step - loss: 0.0021\n",
            "Epoch 56/100\n",
            "94/94 - 0s - 2ms/step - loss: 0.0020\n",
            "Epoch 57/100\n",
            "94/94 - 0s - 2ms/step - loss: 0.0021\n",
            "Epoch 58/100\n",
            "94/94 - 0s - 3ms/step - loss: 0.0020\n",
            "Epoch 59/100\n",
            "94/94 - 0s - 2ms/step - loss: 0.0020\n",
            "Epoch 60/100\n",
            "94/94 - 0s - 2ms/step - loss: 0.0021\n",
            "Epoch 61/100\n",
            "94/94 - 0s - 3ms/step - loss: 0.0020\n",
            "Epoch 62/100\n",
            "94/94 - 0s - 3ms/step - loss: 0.0020\n",
            "Epoch 63/100\n",
            "94/94 - 0s - 2ms/step - loss: 0.0021\n",
            "Epoch 64/100\n",
            "94/94 - 0s - 2ms/step - loss: 0.0020\n",
            "Epoch 65/100\n",
            "94/94 - 0s - 2ms/step - loss: 0.0021\n",
            "Epoch 66/100\n",
            "94/94 - 0s - 3ms/step - loss: 0.0020\n",
            "Epoch 67/100\n",
            "94/94 - 0s - 2ms/step - loss: 0.0020\n",
            "Epoch 68/100\n",
            "94/94 - 0s - 3ms/step - loss: 0.0020\n",
            "Epoch 69/100\n",
            "94/94 - 0s - 2ms/step - loss: 0.0021\n",
            "Epoch 70/100\n",
            "94/94 - 0s - 2ms/step - loss: 0.0020\n",
            "Epoch 71/100\n",
            "94/94 - 0s - 3ms/step - loss: 0.0020\n",
            "Epoch 72/100\n",
            "94/94 - 0s - 3ms/step - loss: 0.0020\n",
            "Epoch 73/100\n",
            "94/94 - 0s - 2ms/step - loss: 0.0020\n",
            "Epoch 74/100\n",
            "94/94 - 0s - 2ms/step - loss: 0.0020\n",
            "Epoch 75/100\n",
            "94/94 - 0s - 3ms/step - loss: 0.0021\n",
            "Epoch 76/100\n",
            "94/94 - 0s - 2ms/step - loss: 0.0020\n",
            "Epoch 77/100\n",
            "94/94 - 0s - 3ms/step - loss: 0.0020\n",
            "Epoch 78/100\n",
            "94/94 - 0s - 4ms/step - loss: 0.0020\n",
            "Epoch 79/100\n",
            "94/94 - 0s - 3ms/step - loss: 0.0020\n",
            "Epoch 80/100\n",
            "94/94 - 0s - 3ms/step - loss: 0.0020\n",
            "Epoch 81/100\n",
            "94/94 - 0s - 3ms/step - loss: 0.0020\n",
            "Epoch 82/100\n",
            "94/94 - 0s - 3ms/step - loss: 0.0021\n",
            "Epoch 83/100\n",
            "94/94 - 0s - 3ms/step - loss: 0.0020\n",
            "Epoch 84/100\n",
            "94/94 - 0s - 3ms/step - loss: 0.0020\n",
            "Epoch 85/100\n",
            "94/94 - 0s - 3ms/step - loss: 0.0020\n",
            "Epoch 86/100\n",
            "94/94 - 0s - 3ms/step - loss: 0.0020\n",
            "Epoch 87/100\n",
            "94/94 - 0s - 3ms/step - loss: 0.0020\n",
            "Epoch 88/100\n",
            "94/94 - 0s - 4ms/step - loss: 0.0020\n",
            "Epoch 89/100\n",
            "94/94 - 0s - 3ms/step - loss: 0.0021\n",
            "Epoch 90/100\n",
            "94/94 - 0s - 3ms/step - loss: 0.0020\n",
            "Epoch 91/100\n",
            "94/94 - 0s - 3ms/step - loss: 0.0020\n",
            "Epoch 92/100\n",
            "94/94 - 0s - 3ms/step - loss: 0.0021\n",
            "Epoch 93/100\n",
            "94/94 - 0s - 2ms/step - loss: 0.0020\n",
            "Epoch 94/100\n",
            "94/94 - 0s - 2ms/step - loss: 0.0020\n",
            "Epoch 95/100\n",
            "94/94 - 0s - 2ms/step - loss: 0.0020\n",
            "Epoch 96/100\n",
            "94/94 - 0s - 2ms/step - loss: 0.0020\n",
            "Epoch 97/100\n",
            "94/94 - 0s - 2ms/step - loss: 0.0020\n",
            "Epoch 98/100\n",
            "94/94 - 0s - 3ms/step - loss: 0.0021\n",
            "Epoch 99/100\n",
            "94/94 - 0s - 3ms/step - loss: 0.0020\n",
            "Epoch 100/100\n",
            "94/94 - 0s - 3ms/step - loss: 0.0021\n"
          ]
        },
        {
          "output_type": "execute_result",
          "data": {
            "text/plain": [
              "<keras.src.callbacks.history.History at 0x7f55cbd0dd20>"
            ]
          },
          "metadata": {},
          "execution_count": 60
        }
      ]
    },
    {
      "cell_type": "code",
      "source": [
        "trainPredict = model.predict(trainX)\n",
        "testPredict = model.predict(testX)\n",
        "# invert predictions\n",
        "trainPredict = scaler.inverse_transform(trainPredict)\n",
        "trainY = scaler.inverse_transform([trainY])\n",
        "testPredict = scaler.inverse_transform(testPredict)\n",
        "testY = scaler.inverse_transform([testY])\n",
        "# calculate root mean squared error\n",
        "trainScore = math.sqrt(mean_squared_error(trainY[0], trainPredict[:,0]))\n",
        "print('Train Score: %.2f RMSE' % (trainScore))\n",
        "testScore = math.sqrt(mean_squared_error(testY[0], testPredict[:,0]))\n",
        "print('Test Score: %.2f RMSE' % (testScore))\n"
      ],
      "metadata": {
        "colab": {
          "base_uri": "https://localhost:8080/"
        },
        "id": "1IEQMNntVFfl",
        "outputId": "1bfe2503-2202-4475-f3a5-872bf54a2c88"
      },
      "execution_count": null,
      "outputs": [
        {
          "output_type": "stream",
          "name": "stdout",
          "text": [
            "\u001b[1m3/3\u001b[0m \u001b[32m━━━━━━━━━━━━━━━━━━━━\u001b[0m\u001b[37m\u001b[0m \u001b[1m0s\u001b[0m 119ms/step\n",
            "\u001b[1m2/2\u001b[0m \u001b[32m━━━━━━━━━━━━━━━━━━━━\u001b[0m\u001b[37m\u001b[0m \u001b[1m0s\u001b[0m 5ms/step \n",
            "Train Score: 23.47 RMSE\n",
            "Test Score: 51.87 RMSE\n"
          ]
        }
      ]
    }
  ]
}